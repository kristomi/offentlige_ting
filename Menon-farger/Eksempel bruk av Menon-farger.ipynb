{
 "cells": [
  {
   "cell_type": "markdown",
   "metadata": {},
   "source": [
    "# Tester import av Menon-farger"
   ]
  },
  {
   "cell_type": "markdown",
   "metadata": {},
   "source": [
    "I denne notebooken viser jeg raskt hvordan man kan style hele notebooken med Menon-farger, og hvordan man kan importere Menon-fargene til bruk i plots o.l."
   ]
  },
  {
   "cell_type": "code",
   "execution_count": 63,
   "metadata": {},
   "outputs": [],
   "source": [
    "import json\n",
    "import requests\n",
    "import matplotlib.pyplot as plt"
   ]
  },
  {
   "cell_type": "markdown",
   "metadata": {},
   "source": [
    "## Leser inn og anvender css-style"
   ]
  },
  {
   "cell_type": "code",
   "execution_count": 64,
   "metadata": {},
   "outputs": [],
   "source": [
    "#from IPython.display import HTML\n",
    "#from urllib.request import urlopen\n",
    "#html = urlopen(\"[url to your css file here]\")\n",
    "#HTML(html.read().decode('utf-8'))"
   ]
  },
  {
   "cell_type": "code",
   "execution_count": 86,
   "metadata": {},
   "outputs": [
    {
     "data": {
      "text/html": [
       "<style>\n",
       "html {\n",
       "  font-size: 62.5% !important;\n",
       "}\n",
       "h1 {\n",
       "  counter-reset: h2counter;\n",
       "}\n",
       "\n",
       "h2:before {\n",
       "  counter-reset: h3counter;\n",
       "  counter-increment: h2counter;\n",
       "  content: counter(h2counter) \".\\0000a0\\0000a0\";\n",
       "}\n",
       "\n",
       "h3:before {\n",
       "  counter-reset: h4counter;\n",
       "  counter-increment: h3counter;\n",
       "  content: counter(h2counter) \".\" counter(h3counter) \".\\0000a0\\0000a0\";\n",
       "}\n",
       "\n",
       "h4:before {\n",
       "  counter-increment: h4counter;\n",
       "  content: counter(h2counter) \".\" counter(h3counter) \".\" counter(h4counter) \".\\0000a0\\0000a0\";\n",
       "}\n",
       "body {\n",
       "  font-size: 1.5em !important;\n",
       "  line-height: 1.6 !important;\n",
       "  font-weight: 400 !important;\n",
       "  font-family: Calibri, sans-serif !important;\n",
       "  color: #222 !important; }\n",
       "\n",
       "h1, h2, h3, h4 {\n",
       "  font-family: Calibri, sans-serif !important;\n",
       "\tmargin-top: 0 !important;\n",
       "  margin-bottom: 2rem !important;\n",
       "  font-weight: bold !important; }\n",
       "h2 {\n",
       "\tfont-size: 24px;\n",
       "  color: rgb(57,87,117);\n",
       "}\n",
       "h3 {\n",
       "\tfont-size: 20px;\n",
       "  color: rgb(214,127,22);\n",
       "}\n",
       "h4 {\n",
       "\tfont-size: 14px;\n",
       "  color: rgb(57,87,117);\n",
       "}\n",
       "</style>\n"
      ],
      "text/plain": [
       "<IPython.core.display.HTML object>"
      ]
     },
     "execution_count": 86,
     "metadata": {},
     "output_type": "execute_result"
    }
   ],
   "source": [
    "from pathlib import Path\n",
    "from IPython.display import HTML\n",
    "file_path = Path('/Users/kristomi/git_prosjekter/offentlige_ting/Menon-farger') / 'menonstyle.css'\n",
    "with open(file_path, 'r') as file:\n",
    "    content = file.read()\n",
    "HTML(content)"
   ]
  },
  {
   "cell_type": "markdown",
   "metadata": {},
   "source": [
    "## Leser fargene rett fra json-fil på nett"
   ]
  },
  {
   "cell_type": "markdown",
   "metadata": {},
   "source": [
    "### Leser farger"
   ]
  },
  {
   "cell_type": "code",
   "execution_count": 15,
   "metadata": {},
   "outputs": [
    {
     "data": {
      "text/plain": [
       "{'Blå': [0.22265625, 0.33984375, 0.45703125],\n",
       " 'Grå': [0.671875, 0.69921875, 0.71875],\n",
       " 'Grønn': [0.6484375, 0.69921875, 0.25],\n",
       " 'Klar blå': [0.015625, 0.1953125, 0.99609375],\n",
       " 'Mørk grå': [0.44921875, 0.48046875, 0.5078125],\n",
       " 'Mørk rød': [0.578125, 0.06640625, 0.0],\n",
       " 'Oransje': [0.83984375, 0.49609375, 0.0859375],\n",
       " 'Turkis': [0.45703125, 0.83203125, 0.99609375]}"
      ]
     },
     "execution_count": 15,
     "metadata": {},
     "output_type": "execute_result"
    }
   ],
   "source": [
    "path = \"https://raw.githubusercontent.com/kristomi/offentlige_ting/master/Menon-farger/menon_farger.json\"\n",
    "farger = json.loads(requests.get(path).text)\n",
    "farger"
   ]
  },
  {
   "cell_type": "markdown",
   "metadata": {},
   "source": [
    "### Lager et plot med dem"
   ]
  },
  {
   "cell_type": "code",
   "execution_count": 13,
   "metadata": {},
   "outputs": [
    {
     "data": {
      "image/png": "[encoded data removed]",
      "text/plain": [
       "<matplotlib.figure.Figure at 0x10f8c8940>"
      ]
     },
     "metadata": {},
     "output_type": "display_data"
    }
   ],
   "source": [
    "plt.plot([1,2,3,4],color=farger['Blå'])\n",
    "plt.plot([3,2,1,3],color=farger['Oransje'])\n",
    "plt.show()"
   ]
  },
  {
   "cell_type": "markdown",
   "metadata": {},
   "source": [
    "#### Nivå tre-overskrift"
   ]
  },
  {
   "cell_type": "code",
   "execution_count": null,
   "metadata": {},
   "outputs": [],
   "source": []
  }
 ],
 "metadata": {
  "kernelspec": {
   "display_name": "Python 3",
   "language": "python",
   "name": "python3"
  },
  "language_info": {
   "codemirror_mode": {
    "name": "ipython",
    "version": 3
   },
   "file_extension": ".py",
   "mimetype": "text/x-python",
   "name": "python",
   "nbconvert_exporter": "python",
   "pygments_lexer": "ipython3",
   "version": "3.6.4"
  }
 },
 "nbformat": 4,
 "nbformat_minor": 2
}
